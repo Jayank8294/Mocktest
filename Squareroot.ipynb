{
 "cells": [
  {
   "cell_type": "code",
   "execution_count": null,
   "id": "59f5b6fb-7229-4c99-b8de-bd467ec7fada",
   "metadata": {},
   "outputs": [],
   "source": [
    "def square_root(number):\n",
    "    if number == 0:\n",
    "        return 0\n",
    "    \n",
    "    elif number < 0:\n",
    "        \n",
    "        return -1\n",
    "    else:\n",
    "        temp_root = number / 2\n",
    "        while True:\n",
    "            new_temp_root = (temp_root + number / temp_root) / 2\n",
    "            #print(f\"guess: {temp_root}, number: {number}, new_guess: {new_temp_root}\")\n",
    "\n",
    "            if abs(temp_root - new_temp_root) < 0.001:\n",
    "                return new_temp_root\n",
    "\n",
    "            temp_root = new_temp_root\n",
    "\n",
    "number = int(input(\"Enter the number to which we need the root of: \"))\n",
    "root = square_root(number)\n",
    "if root == -1:\n",
    "    print(\"Number provided is a negative integer. Hence Root is not possible.\")\n",
    "else:\n",
    "    print(\"Square root of\", number, \"is\", int(root))"
   ]
  }
 ],
 "metadata": {
  "kernelspec": {
   "display_name": "Python 3 (ipykernel)",
   "language": "python",
   "name": "python3"
  },
  "language_info": {
   "codemirror_mode": {
    "name": "ipython",
    "version": 3
   },
   "file_extension": ".py",
   "mimetype": "text/x-python",
   "name": "python",
   "nbconvert_exporter": "python",
   "pygments_lexer": "ipython3",
   "version": "3.10.6"
  }
 },
 "nbformat": 4,
 "nbformat_minor": 5
}
