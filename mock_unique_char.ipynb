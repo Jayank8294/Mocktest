{
 "cells": [
  {
   "cell_type": "code",
   "execution_count": 15,
   "id": "62ee824b-4a89-4165-9384-3d109002eee1",
   "metadata": {},
   "outputs": [],
   "source": [
    "from collections import Counter\n",
    "class Solution():\n",
    "    def first_unique_char(self,string):\n",
    "        h = Counter(string)\n",
    "        flag = True\n",
    "        for key,val in h.items():\n",
    "            if val == 1:\n",
    "                flag = False\n",
    "                return string.index(key)\n",
    "        if flag:\n",
    "            return -1"
   ]
  }
 ],
 "metadata": {
  "kernelspec": {
   "display_name": "Python 3 (ipykernel)",
   "language": "python",
   "name": "python3"
  },
  "language_info": {
   "codemirror_mode": {
    "name": "ipython",
    "version": 3
   },
   "file_extension": ".py",
   "mimetype": "text/x-python",
   "name": "python",
   "nbconvert_exporter": "python",
   "pygments_lexer": "ipython3",
   "version": "3.10.6"
  }
 },
 "nbformat": 4,
 "nbformat_minor": 5
}
