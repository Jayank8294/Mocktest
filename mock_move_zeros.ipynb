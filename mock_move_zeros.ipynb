{
 "cells": [
  {
   "cell_type": "code",
   "execution_count": null,
   "id": "e14a1d07-04d4-43e3-837a-16b6e6b220ac",
   "metadata": {},
   "outputs": [],
   "source": [
    "class Solution():\n",
    "    def movezeros(nums):\n",
    "        count = 0\n",
    "        for i in range(len(nums)):\n",
    "            if nums[i] != 0:\n",
    "                nums[count] = nums[i]\n",
    "                count +=1\n",
    "        for i in range(count,len(nums)):\n",
    "            nums[i] = 0\n",
    "        return nums"
   ]
  }
 ],
 "metadata": {
  "kernelspec": {
   "display_name": "Python 3 (ipykernel)",
   "language": "python",
   "name": "python3"
  },
  "language_info": {
   "codemirror_mode": {
    "name": "ipython",
    "version": 3
   },
   "file_extension": ".py",
   "mimetype": "text/x-python",
   "name": "python",
   "nbconvert_exporter": "python",
   "pygments_lexer": "ipython3",
   "version": "3.10.6"
  }
 },
 "nbformat": 4,
 "nbformat_minor": 5
}
