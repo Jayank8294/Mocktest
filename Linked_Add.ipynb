{
 "cells": [
  {
   "cell_type": "code",
   "execution_count": null,
   "id": "b2fe62d1-9a74-4e98-bbaf-1c09602888d3",
   "metadata": {},
   "outputs": [],
   "source": [
    "class List_Node:\n",
    "    def __init__(self, val=0, next=None):\n",
    "        self.val = val\n",
    "        self.next = next\n",
    "\n",
    "def Linked_List(values):\n",
    "    if not values:\n",
    "        return None\n",
    "\n",
    "    head = List_Node(values[0])\n",
    "    current = head\n",
    "\n",
    "    for val in values[1:]:\n",
    "        new_node = List_Node(val)\n",
    "        current.next = new_node\n",
    "        current = new_node\n",
    "\n",
    "    return head\n",
    "\n",
    "def add_nums(l1,l2):\n",
    "    temp_list = List_Node()\n",
    "    current = temp_list\n",
    "    carry = 0\n",
    "\n",
    "    while l1 or l2 or carry:\n",
    "        add1 = l1.val if l1 else 0\n",
    "        add2 = l2.val if l2 else 0\n",
    "\n",
    "        val = add1+add2+carry\n",
    "        carry = val//10\n",
    "        digit_to_be_added = val%10\n",
    "\n",
    "        current.next = List_Node(digit_to_be_added)\n",
    "        current = current.next\n",
    "\n",
    "        if l1:\n",
    "            l1 = l1.next\n",
    "        if l2:\n",
    "            l2 = l2.next\n",
    "    return temp_list.next\n",
    "\n",
    "a = [9,9,9,9,9,9,9]\n",
    "b = [9,9,9,9]\n",
    "\n",
    "l1 = Linked_List(a)\n",
    "l2 = Linked_List(b)\n",
    "\n",
    "\n",
    "\n",
    "l3 = add_nums(l1,l2)\n",
    "current = l3\n",
    "while current:\n",
    "    print(current.val, end=\" \")\n",
    "    current = current.next\n"
   ]
  }
 ],
 "metadata": {
  "kernelspec": {
   "display_name": "Python 3 (ipykernel)",
   "language": "python",
   "name": "python3"
  },
  "language_info": {
   "codemirror_mode": {
    "name": "ipython",
    "version": 3
   },
   "file_extension": ".py",
   "mimetype": "text/x-python",
   "name": "python",
   "nbconvert_exporter": "python",
   "pygments_lexer": "ipython3",
   "version": "3.10.6"
  }
 },
 "nbformat": 4,
 "nbformat_minor": 5
}
